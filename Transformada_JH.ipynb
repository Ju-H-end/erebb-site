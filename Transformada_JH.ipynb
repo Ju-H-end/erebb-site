{
  "nbformat": 4,
  "nbformat_minor": 0,
  "metadata": {
    "colab": {
      "provenance": [],
      "authorship_tag": "ABX9TyMttAiBH8HgsZSW4uTgwy3I",
      "include_colab_link": true
    },
    "kernelspec": {
      "name": "python3",
      "display_name": "Python 3"
    },
    "language_info": {
      "name": "python"
    }
  },
  "cells": [
    {
      "cell_type": "markdown",
      "metadata": {
        "id": "view-in-github",
        "colab_type": "text"
      },
      "source": [
        "<a href=\"https://colab.research.google.com/github/Ju-H-end/erebb-site/blob/main/Transformada_JH.ipynb\" target=\"_parent\"><img src=\"https://colab.research.google.com/assets/colab-badge.svg\" alt=\"Open In Colab\"/></a>"
      ]
    },
    {
      "cell_type": "code",
      "execution_count": 5,
      "metadata": {
        "colab": {
          "base_uri": "https://localhost:8080/"
        },
        "id": "uslOMUtkIPeJ",
        "outputId": "651ea9d4-e036-48c1-a7cf-dd59634b0db1"
      },
      "outputs": [
        {
          "output_type": "stream",
          "name": "stdout",
          "text": [
            "Arquivo 'Registros_canais_desejados_epilepsy.csv' não encontrado.\n",
            "Criando um DataFrame de exemplo para continuar a execução.\n",
            "Processando paciente: 7656\n",
            "  Processando canal: F3\n",
            "  Processando canal: F4\n",
            "  Processando canal: C3\n",
            "  Processando canal: C4\n",
            "  Processando canal: P3\n",
            "  Processando canal: P4\n",
            "Características salvas em eeg_output/caracteristicas_eeg.csv\n"
          ]
        }
      ],
      "source": [
        "import pandas as pd\n",
        "import numpy as np\n",
        "import matplotlib.pyplot as plt\n",
        "import os\n",
        "from scipy.signal import butter, lfilter, welch, stft\n",
        "from scipy.ndimage import gaussian_filter1d\n",
        "\n",
        "# Canais desejados\n",
        "CHANNELS = ['F3', 'F4', 'C3', 'C4', 'P3', 'P4']\n",
        "\n",
        "# Função para simular o carregamento de dados EEG (já que não temos os arquivos .edf)\n",
        "def load_eeg_data_simulated(patient_id, sfreq=250, duration=10):\n",
        "    n_samples = int(sfreq * duration)\n",
        "    data = np.random.randn(len(CHANNELS), n_samples) * 1e-5  # Simula dados EEG em Volts\n",
        "    info = {\n",
        "        'ch_names': CHANNELS,\n",
        "        'sfreq': sfreq,\n",
        "        'nchan': len(CHANNELS),\n",
        "        'meas_date': None\n",
        "    }\n",
        "    return data, info\n",
        "\n",
        "# Funções de pré-processamento\n",
        "def butter_bandpass(lowcut, highcut, fs, order=5):\n",
        "    nyq = 0.5 * fs\n",
        "    low = lowcut / nyq\n",
        "    high = highcut / nyq\n",
        "    b, a = butter(order, [low, high], btype='band')\n",
        "    return b, a\n",
        "\n",
        "def bandpass_filter(data, lowcut, highcut, fs, order=5):\n",
        "    b, a = butter_bandpass(lowcut, highcut, fs, order=order)\n",
        "    y = lfilter(b, a, data)\n",
        "    return y\n",
        "\n",
        "def normalize_signal(data):\n",
        "    return (data - np.mean(data)) / np.std(data)\n",
        "\n",
        "def remove_artifacts_gaussian(data, sigma=2):\n",
        "    return gaussian_filter1d(data, sigma=sigma)\n",
        "\n",
        "# Função para extrair ID do paciente do nome do arquivo\n",
        "def extract_patient_id(filename):\n",
        "    return filename.split('_')[0]\n",
        "\n",
        "def main():\n",
        "    try:\n",
        "        df = pd.read_csv('Registros_canais_desejados_epilepsy.csv')\n",
        "        print(\"Arquivo 'Registros_canais_desejados_epilepsy.csv' carregado com sucesso.\")\n",
        "    except FileNotFoundError:\n",
        "        print(\"Arquivo 'Registros_canais_desejados_epilepsy.csv' não encontrado.\")\n",
        "        print(\"Criando um DataFrame de exemplo para continuar a execução.\")\n",
        "        df = pd.DataFrame({\n",
        "            'Arquivo': ['simulado_00007656_s010_t000.edf'],\n",
        "            'Categoria': ['epilepsy'],\n",
        "            'Paciente_ID': [7656]\n",
        "        })\n",
        "\n",
        "    # Obter IDs únicos de pacientes\n",
        "    if not df.empty:\n",
        "      patient_ids = df['Paciente_ID'].unique()\n",
        "    else:\n",
        "      print(\"DataFrame está vazio, não há pacientes para processar.\")\n",
        "      return # Exit if df is empty\n",
        "\n",
        "\n",
        "    output_dir = 'eeg_output'\n",
        "    os.makedirs(output_dir, exist_ok=True)\n",
        "\n",
        "    all_features = []\n",
        "\n",
        "    # Defina a duração do segmento para o gráfico segmentado (em segundos)\n",
        "    segment_duration = 5\n",
        "\n",
        "    for patient_id in patient_ids:\n",
        "        print(f\"Processando paciente: {patient_id}\")\n",
        "\n",
        "        # Simular carregamento de dados para o paciente\n",
        "        raw_data, info = load_eeg_data_simulated(patient_id)\n",
        "        sfreq = info['sfreq']\n",
        "\n",
        "        # Iterar sobre cada canal\n",
        "        for i, channel_name in enumerate(CHANNELS):\n",
        "            print(f\"  Processando canal: {channel_name}\")\n",
        "            signal = raw_data[i, :]\n",
        "\n",
        "            # 1. Visualização do sinal bruto (inteiro)\n",
        "            plt.figure(figsize=(12, 6))\n",
        "            plt.plot(np.arange(len(signal)) / sfreq, signal)\n",
        "            plt.title(f'Sinal Bruto Inteiro - Paciente {patient_id} - Canal {channel_name}')\n",
        "            plt.xlabel('Tempo (s)')\n",
        "            plt.ylabel('Amplitude (V)')\n",
        "            plt.grid(True)\n",
        "            plt.savefig(os.path.join(output_dir, f'paciente_{patient_id}_{channel_name}_sinal_bruto_inteiro.png'))\n",
        "            plt.close()\n",
        "\n",
        "            # 2. Visualização do sinal bruto (segmentado)\n",
        "            n_segment_samples = int(sfreq * segment_duration)\n",
        "            if n_segment_samples < len(signal):\n",
        "              plt.figure(figsize=(12, 6))\n",
        "              plt.plot(np.arange(n_segment_samples) / sfreq, signal[:n_segment_samples])\n",
        "              plt.title(f'Sinal Bruto Segmentado ({segment_duration}s) - Paciente {patient_id} - Canal {channel_name}')\n",
        "              plt.xlabel('Tempo (s)')\n",
        "              plt.ylabel('Amplitude (V)')\n",
        "              plt.grid(True)\n",
        "              plt.savefig(os.path.join(output_dir, f'paciente_{patient_id}_{channel_name}_sinal_bruto_segmentado.png'))\n",
        "              plt.close()\n",
        "            else:\n",
        "                print(f\"  Sinal muito curto para segmentar ({segment_duration}s). Pulando o gráfico segmentado para o canal {channel_name}.\")\n",
        "\n",
        "\n",
        "            # 3. Pré-processamento\n",
        "            # Filtragem Band-pass (0.5 - 30 Hz)\n",
        "            filtered_signal = bandpass_filter(signal, 0.5, 30, sfreq)\n",
        "            # Normalização\n",
        "            normalized_signal = normalize_signal(filtered_signal)\n",
        "            # Remoção de artefatos (suavização gaussiana)\n",
        "            preprocessed_signal = remove_artifacts_gaussian(normalized_signal)\n",
        "\n",
        "            # Visualização do sinal pré-processado\n",
        "            plt.figure(figsize=(12, 6))\n",
        "            plt.plot(np.arange(len(preprocessed_signal)) / sfreq, preprocessed_signal)\n",
        "            plt.title(f'Sinal Pré-processado - Paciente {patient_id} - Canal {channel_name}')\n",
        "            plt.xlabel('Tempo (s)')\n",
        "            plt.ylabel('Amplitude Normalizada')\n",
        "            plt.grid(True)\n",
        "            plt.savefig(os.path.join(output_dir, f'paciente_{patient_id}_{channel_name}_sinal_pre_processado.png'))\n",
        "            plt.close()\n",
        "\n",
        "            # 4. Transformada de Fourier de Curto Tempo (STFT) e Extração de Características\n",
        "            f, t, Zxx = stft(preprocessed_signal, sfreq, nperseg=sfreq)\n",
        "\n",
        "            # Visualização do Heatmap da STFT\n",
        "            plt.figure(figsize=(10, 6))\n",
        "            plt.pcolormesh(t, f, np.abs(Zxx), shading='gouraud')\n",
        "            plt.title(f'STFT Heatmap - Paciente {patient_id} - Canal {channel_name}')\n",
        "            plt.xlabel('Tempo (s)')\n",
        "            plt.ylabel('Frequência (Hz)')\n",
        "            plt.colorbar(label='Magnitude')\n",
        "            plt.ylim([0, 50]) # Limitar o eixo y para melhor visualização das bandas de interesse\n",
        "            plt.savefig(os.path.join(output_dir, f'paciente_{patient_id}_{channel_name}_stft_heatmap.png'))\n",
        "            plt.close()\n",
        "\n",
        "\n",
        "            # Exemplo: Média e desvio padrão da magnitude dos coeficientes\n",
        "            mean_stft = np.mean(np.abs(Zxx))\n",
        "            std_stft = np.std(np.abs(Zxx))\n",
        "\n",
        "            # Definir as bandas de frequência\n",
        "            delta_band = (0.5, 4)\n",
        "            theta_band = (4, 8)\n",
        "            alpha_band = (8, 13)\n",
        "            beta_band = (13, 30)\n",
        "            gamma_band = (30, 100)\n",
        "\n",
        "            # Encontrar os índices das frequências correspondentes às bandas\n",
        "            delta_idx = np.where((f >= delta_band[0]) & (f <= delta_band[1]))[0]\n",
        "            theta_idx = np.where((f >= theta_band[0]) & (f <= theta_band[1]))[0]\n",
        "            alpha_idx = np.where((f >= alpha_band[0]) & (f <= alpha_band[1]))[0]\n",
        "            beta_idx = np.where((f >= beta_band[0]) & (f <= beta_band[1]))[0]\n",
        "            gamma_idx = np.where((f >= gamma_band[0]) & (f <= gamma_band[1]))[0]\n",
        "\n",
        "            # Calcular a potência média em cada banda\n",
        "            delta_power = np.mean(np.abs(Zxx[delta_idx, :])) if len(delta_idx) > 0 else 0\n",
        "            theta_power = np.mean(np.abs(Zxx[theta_idx, :])) if len(theta_idx) > 0 else 0\n",
        "            alpha_power = np.mean(np.abs(Zxx[alpha_idx, :])) if len(alpha_idx) > 0 else 0\n",
        "            beta_power = np.mean(np.abs(Zxx[beta_idx, :])) if len(beta_idx) > 0 else 0\n",
        "            gamma_power = np.mean(np.abs(Zxx[gamma_idx, :])) if len(gamma_idx) > 0 else 0\n",
        "\n",
        "\n",
        "            features = {\n",
        "                'Paciente_ID': patient_id,\n",
        "                'Canal': channel_name,\n",
        "                'Media_STFT': mean_stft,\n",
        "                'Std_STFT': std_stft,\n",
        "                'Potencia_Delta': delta_power,\n",
        "                'Potencia_Theta': theta_power,\n",
        "                'Potencia_Alpha': alpha_power,\n",
        "                'Potencia_Beta': beta_power,\n",
        "                'Potencia_Gamma': gamma_power\n",
        "            }\n",
        "            all_features.append(features)\n",
        "\n",
        "\n",
        "    # Salvar resumo das características em CSV\n",
        "    features_df = pd.DataFrame(all_features)\n",
        "    features_df.to_csv(os.path.join(output_dir, 'caracteristicas_eeg.csv'), index=False)\n",
        "    print(f\"Características salvas em {os.path.join(output_dir, 'caracteristicas_eeg.csv')}\")\n",
        "\n",
        "if __name__ == '__main__':\n",
        "    main()"
      ]
    },
    {
      "cell_type": "code",
      "metadata": {
        "colab": {
          "base_uri": "https://localhost:8080/",
          "height": 34
        },
        "id": "a2171455",
        "outputId": "0340e7e5-6672-4811-b08b-674a538078e7"
      },
      "source": [
        "from google.colab import files\n",
        "import pandas as pd\n",
        "import os\n",
        "\n",
        "output_dir = 'eeg_output'\n",
        "features_file = os.path.join(output_dir, 'caracteristicas_eeg.csv')\n",
        "\n",
        "# Verificar se o arquivo existe antes de tentar baixar\n",
        "if os.path.exists(features_file):\n",
        "    print(f\"Baixando o arquivo: {features_file}\")\n",
        "    files.download(features_file)\n",
        "else:\n",
        "    print(f\"O arquivo {features_file} não foi encontrado.\")\n",
        "    print(\"Por favor, execute a célula anterior para gerar o arquivo.\")"
      ],
      "execution_count": 2,
      "outputs": [
        {
          "output_type": "stream",
          "name": "stdout",
          "text": [
            "Baixando o arquivo: eeg_output/caracteristicas_eeg.csv\n"
          ]
        },
        {
          "output_type": "display_data",
          "data": {
            "text/plain": [
              "<IPython.core.display.Javascript object>"
            ],
            "application/javascript": [
              "\n",
              "    async function download(id, filename, size) {\n",
              "      if (!google.colab.kernel.accessAllowed) {\n",
              "        return;\n",
              "      }\n",
              "      const div = document.createElement('div');\n",
              "      const label = document.createElement('label');\n",
              "      label.textContent = `Downloading \"${filename}\": `;\n",
              "      div.appendChild(label);\n",
              "      const progress = document.createElement('progress');\n",
              "      progress.max = size;\n",
              "      div.appendChild(progress);\n",
              "      document.body.appendChild(div);\n",
              "\n",
              "      const buffers = [];\n",
              "      let downloaded = 0;\n",
              "\n",
              "      const channel = await google.colab.kernel.comms.open(id);\n",
              "      // Send a message to notify the kernel that we're ready.\n",
              "      channel.send({})\n",
              "\n",
              "      for await (const message of channel.messages) {\n",
              "        // Send a message to notify the kernel that we're ready.\n",
              "        channel.send({})\n",
              "        if (message.buffers) {\n",
              "          for (const buffer of message.buffers) {\n",
              "            buffers.push(buffer);\n",
              "            downloaded += buffer.byteLength;\n",
              "            progress.value = downloaded;\n",
              "          }\n",
              "        }\n",
              "      }\n",
              "      const blob = new Blob(buffers, {type: 'application/binary'});\n",
              "      const a = document.createElement('a');\n",
              "      a.href = window.URL.createObjectURL(blob);\n",
              "      a.download = filename;\n",
              "      div.appendChild(a);\n",
              "      a.click();\n",
              "      div.remove();\n",
              "    }\n",
              "  "
            ]
          },
          "metadata": {}
        },
        {
          "output_type": "display_data",
          "data": {
            "text/plain": [
              "<IPython.core.display.Javascript object>"
            ],
            "application/javascript": [
              "download(\"download_c5e5686e-cc56-4747-85ac-488aa3659a18\", \"caracteristicas_eeg.csv\", 261)"
            ]
          },
          "metadata": {}
        }
      ]
    },
    {
      "cell_type": "code",
      "metadata": {
        "colab": {
          "base_uri": "https://localhost:8080/",
          "height": 138
        },
        "id": "e95f8187",
        "outputId": "611e80de-a91d-404e-f28f-2af995b0f206"
      },
      "source": [
        "from google.colab import files\n",
        "import os\n",
        "\n",
        "output_dir = 'eeg_output'\n",
        "image_files = [f for f in os.listdir(output_dir) if f.endswith('.png') and 'sinal_pre_processado' in f]\n",
        "\n",
        "if image_files:\n",
        "    print(\"Baixando os seguintes arquivos de imagem:\")\n",
        "    for img_file in image_files:\n",
        "        print(f\"- {img_file}\")\n",
        "        files.download(os.path.join(output_dir, img_file))\n",
        "else:\n",
        "    print(f\"Nenhum arquivo de imagem de sinal pré-processado encontrado na pasta '{output_dir}'.\")\n",
        "    print(\"Por favor, execute a célula anterior para gerar os gráficos.\")"
      ],
      "execution_count": 7,
      "outputs": [
        {
          "output_type": "stream",
          "name": "stdout",
          "text": [
            "Baixando os seguintes arquivos de imagem:\n",
            "- paciente_7656_F3_sinal_pre_processado.png\n"
          ]
        },
        {
          "output_type": "display_data",
          "data": {
            "text/plain": [
              "<IPython.core.display.Javascript object>"
            ],
            "application/javascript": [
              "\n",
              "    async function download(id, filename, size) {\n",
              "      if (!google.colab.kernel.accessAllowed) {\n",
              "        return;\n",
              "      }\n",
              "      const div = document.createElement('div');\n",
              "      const label = document.createElement('label');\n",
              "      label.textContent = `Downloading \"${filename}\": `;\n",
              "      div.appendChild(label);\n",
              "      const progress = document.createElement('progress');\n",
              "      progress.max = size;\n",
              "      div.appendChild(progress);\n",
              "      document.body.appendChild(div);\n",
              "\n",
              "      const buffers = [];\n",
              "      let downloaded = 0;\n",
              "\n",
              "      const channel = await google.colab.kernel.comms.open(id);\n",
              "      // Send a message to notify the kernel that we're ready.\n",
              "      channel.send({})\n",
              "\n",
              "      for await (const message of channel.messages) {\n",
              "        // Send a message to notify the kernel that we're ready.\n",
              "        channel.send({})\n",
              "        if (message.buffers) {\n",
              "          for (const buffer of message.buffers) {\n",
              "            buffers.push(buffer);\n",
              "            downloaded += buffer.byteLength;\n",
              "            progress.value = downloaded;\n",
              "          }\n",
              "        }\n",
              "      }\n",
              "      const blob = new Blob(buffers, {type: 'application/binary'});\n",
              "      const a = document.createElement('a');\n",
              "      a.href = window.URL.createObjectURL(blob);\n",
              "      a.download = filename;\n",
              "      div.appendChild(a);\n",
              "      a.click();\n",
              "      div.remove();\n",
              "    }\n",
              "  "
            ]
          },
          "metadata": {}
        },
        {
          "output_type": "display_data",
          "data": {
            "text/plain": [
              "<IPython.core.display.Javascript object>"
            ],
            "application/javascript": [
              "download(\"download_ae459e0d-4673-4e2c-820d-a41a2c6c81b1\", \"paciente_7656_F3_sinal_pre_processado.png\", 134246)"
            ]
          },
          "metadata": {}
        },
        {
          "output_type": "stream",
          "name": "stdout",
          "text": [
            "- paciente_7656_C4_sinal_pre_processado.png\n"
          ]
        },
        {
          "output_type": "display_data",
          "data": {
            "text/plain": [
              "<IPython.core.display.Javascript object>"
            ],
            "application/javascript": [
              "\n",
              "    async function download(id, filename, size) {\n",
              "      if (!google.colab.kernel.accessAllowed) {\n",
              "        return;\n",
              "      }\n",
              "      const div = document.createElement('div');\n",
              "      const label = document.createElement('label');\n",
              "      label.textContent = `Downloading \"${filename}\": `;\n",
              "      div.appendChild(label);\n",
              "      const progress = document.createElement('progress');\n",
              "      progress.max = size;\n",
              "      div.appendChild(progress);\n",
              "      document.body.appendChild(div);\n",
              "\n",
              "      const buffers = [];\n",
              "      let downloaded = 0;\n",
              "\n",
              "      const channel = await google.colab.kernel.comms.open(id);\n",
              "      // Send a message to notify the kernel that we're ready.\n",
              "      channel.send({})\n",
              "\n",
              "      for await (const message of channel.messages) {\n",
              "        // Send a message to notify the kernel that we're ready.\n",
              "        channel.send({})\n",
              "        if (message.buffers) {\n",
              "          for (const buffer of message.buffers) {\n",
              "            buffers.push(buffer);\n",
              "            downloaded += buffer.byteLength;\n",
              "            progress.value = downloaded;\n",
              "          }\n",
              "        }\n",
              "      }\n",
              "      const blob = new Blob(buffers, {type: 'application/binary'});\n",
              "      const a = document.createElement('a');\n",
              "      a.href = window.URL.createObjectURL(blob);\n",
              "      a.download = filename;\n",
              "      div.appendChild(a);\n",
              "      a.click();\n",
              "      div.remove();\n",
              "    }\n",
              "  "
            ]
          },
          "metadata": {}
        },
        {
          "output_type": "display_data",
          "data": {
            "text/plain": [
              "<IPython.core.display.Javascript object>"
            ],
            "application/javascript": [
              "download(\"download_1b0f54af-b627-44ff-af08-a70e8f98c1a7\", \"paciente_7656_C4_sinal_pre_processado.png\", 135654)"
            ]
          },
          "metadata": {}
        },
        {
          "output_type": "stream",
          "name": "stdout",
          "text": [
            "- paciente_7656_P3_sinal_pre_processado.png\n"
          ]
        },
        {
          "output_type": "display_data",
          "data": {
            "text/plain": [
              "<IPython.core.display.Javascript object>"
            ],
            "application/javascript": [
              "\n",
              "    async function download(id, filename, size) {\n",
              "      if (!google.colab.kernel.accessAllowed) {\n",
              "        return;\n",
              "      }\n",
              "      const div = document.createElement('div');\n",
              "      const label = document.createElement('label');\n",
              "      label.textContent = `Downloading \"${filename}\": `;\n",
              "      div.appendChild(label);\n",
              "      const progress = document.createElement('progress');\n",
              "      progress.max = size;\n",
              "      div.appendChild(progress);\n",
              "      document.body.appendChild(div);\n",
              "\n",
              "      const buffers = [];\n",
              "      let downloaded = 0;\n",
              "\n",
              "      const channel = await google.colab.kernel.comms.open(id);\n",
              "      // Send a message to notify the kernel that we're ready.\n",
              "      channel.send({})\n",
              "\n",
              "      for await (const message of channel.messages) {\n",
              "        // Send a message to notify the kernel that we're ready.\n",
              "        channel.send({})\n",
              "        if (message.buffers) {\n",
              "          for (const buffer of message.buffers) {\n",
              "            buffers.push(buffer);\n",
              "            downloaded += buffer.byteLength;\n",
              "            progress.value = downloaded;\n",
              "          }\n",
              "        }\n",
              "      }\n",
              "      const blob = new Blob(buffers, {type: 'application/binary'});\n",
              "      const a = document.createElement('a');\n",
              "      a.href = window.URL.createObjectURL(blob);\n",
              "      a.download = filename;\n",
              "      div.appendChild(a);\n",
              "      a.click();\n",
              "      div.remove();\n",
              "    }\n",
              "  "
            ]
          },
          "metadata": {}
        },
        {
          "output_type": "display_data",
          "data": {
            "text/plain": [
              "<IPython.core.display.Javascript object>"
            ],
            "application/javascript": [
              "download(\"download_0ae8ed62-53f9-47b0-b187-bd8fdca992be\", \"paciente_7656_P3_sinal_pre_processado.png\", 134804)"
            ]
          },
          "metadata": {}
        },
        {
          "output_type": "stream",
          "name": "stdout",
          "text": [
            "- paciente_7656_P4_sinal_pre_processado.png\n"
          ]
        },
        {
          "output_type": "display_data",
          "data": {
            "text/plain": [
              "<IPython.core.display.Javascript object>"
            ],
            "application/javascript": [
              "\n",
              "    async function download(id, filename, size) {\n",
              "      if (!google.colab.kernel.accessAllowed) {\n",
              "        return;\n",
              "      }\n",
              "      const div = document.createElement('div');\n",
              "      const label = document.createElement('label');\n",
              "      label.textContent = `Downloading \"${filename}\": `;\n",
              "      div.appendChild(label);\n",
              "      const progress = document.createElement('progress');\n",
              "      progress.max = size;\n",
              "      div.appendChild(progress);\n",
              "      document.body.appendChild(div);\n",
              "\n",
              "      const buffers = [];\n",
              "      let downloaded = 0;\n",
              "\n",
              "      const channel = await google.colab.kernel.comms.open(id);\n",
              "      // Send a message to notify the kernel that we're ready.\n",
              "      channel.send({})\n",
              "\n",
              "      for await (const message of channel.messages) {\n",
              "        // Send a message to notify the kernel that we're ready.\n",
              "        channel.send({})\n",
              "        if (message.buffers) {\n",
              "          for (const buffer of message.buffers) {\n",
              "            buffers.push(buffer);\n",
              "            downloaded += buffer.byteLength;\n",
              "            progress.value = downloaded;\n",
              "          }\n",
              "        }\n",
              "      }\n",
              "      const blob = new Blob(buffers, {type: 'application/binary'});\n",
              "      const a = document.createElement('a');\n",
              "      a.href = window.URL.createObjectURL(blob);\n",
              "      a.download = filename;\n",
              "      div.appendChild(a);\n",
              "      a.click();\n",
              "      div.remove();\n",
              "    }\n",
              "  "
            ]
          },
          "metadata": {}
        },
        {
          "output_type": "display_data",
          "data": {
            "text/plain": [
              "<IPython.core.display.Javascript object>"
            ],
            "application/javascript": [
              "download(\"download_cbcb1d0b-9e1d-49fa-8119-175a2266e836\", \"paciente_7656_P4_sinal_pre_processado.png\", 138393)"
            ]
          },
          "metadata": {}
        },
        {
          "output_type": "stream",
          "name": "stdout",
          "text": [
            "- paciente_7656_F4_sinal_pre_processado.png\n"
          ]
        },
        {
          "output_type": "display_data",
          "data": {
            "text/plain": [
              "<IPython.core.display.Javascript object>"
            ],
            "application/javascript": [
              "\n",
              "    async function download(id, filename, size) {\n",
              "      if (!google.colab.kernel.accessAllowed) {\n",
              "        return;\n",
              "      }\n",
              "      const div = document.createElement('div');\n",
              "      const label = document.createElement('label');\n",
              "      label.textContent = `Downloading \"${filename}\": `;\n",
              "      div.appendChild(label);\n",
              "      const progress = document.createElement('progress');\n",
              "      progress.max = size;\n",
              "      div.appendChild(progress);\n",
              "      document.body.appendChild(div);\n",
              "\n",
              "      const buffers = [];\n",
              "      let downloaded = 0;\n",
              "\n",
              "      const channel = await google.colab.kernel.comms.open(id);\n",
              "      // Send a message to notify the kernel that we're ready.\n",
              "      channel.send({})\n",
              "\n",
              "      for await (const message of channel.messages) {\n",
              "        // Send a message to notify the kernel that we're ready.\n",
              "        channel.send({})\n",
              "        if (message.buffers) {\n",
              "          for (const buffer of message.buffers) {\n",
              "            buffers.push(buffer);\n",
              "            downloaded += buffer.byteLength;\n",
              "            progress.value = downloaded;\n",
              "          }\n",
              "        }\n",
              "      }\n",
              "      const blob = new Blob(buffers, {type: 'application/binary'});\n",
              "      const a = document.createElement('a');\n",
              "      a.href = window.URL.createObjectURL(blob);\n",
              "      a.download = filename;\n",
              "      div.appendChild(a);\n",
              "      a.click();\n",
              "      div.remove();\n",
              "    }\n",
              "  "
            ]
          },
          "metadata": {}
        },
        {
          "output_type": "display_data",
          "data": {
            "text/plain": [
              "<IPython.core.display.Javascript object>"
            ],
            "application/javascript": [
              "download(\"download_8394b6c1-acf1-4d9d-acb3-c3ef71c57cb9\", \"paciente_7656_F4_sinal_pre_processado.png\", 130975)"
            ]
          },
          "metadata": {}
        },
        {
          "output_type": "stream",
          "name": "stdout",
          "text": [
            "- paciente_7656_C3_sinal_pre_processado.png\n"
          ]
        },
        {
          "output_type": "display_data",
          "data": {
            "text/plain": [
              "<IPython.core.display.Javascript object>"
            ],
            "application/javascript": [
              "\n",
              "    async function download(id, filename, size) {\n",
              "      if (!google.colab.kernel.accessAllowed) {\n",
              "        return;\n",
              "      }\n",
              "      const div = document.createElement('div');\n",
              "      const label = document.createElement('label');\n",
              "      label.textContent = `Downloading \"${filename}\": `;\n",
              "      div.appendChild(label);\n",
              "      const progress = document.createElement('progress');\n",
              "      progress.max = size;\n",
              "      div.appendChild(progress);\n",
              "      document.body.appendChild(div);\n",
              "\n",
              "      const buffers = [];\n",
              "      let downloaded = 0;\n",
              "\n",
              "      const channel = await google.colab.kernel.comms.open(id);\n",
              "      // Send a message to notify the kernel that we're ready.\n",
              "      channel.send({})\n",
              "\n",
              "      for await (const message of channel.messages) {\n",
              "        // Send a message to notify the kernel that we're ready.\n",
              "        channel.send({})\n",
              "        if (message.buffers) {\n",
              "          for (const buffer of message.buffers) {\n",
              "            buffers.push(buffer);\n",
              "            downloaded += buffer.byteLength;\n",
              "            progress.value = downloaded;\n",
              "          }\n",
              "        }\n",
              "      }\n",
              "      const blob = new Blob(buffers, {type: 'application/binary'});\n",
              "      const a = document.createElement('a');\n",
              "      a.href = window.URL.createObjectURL(blob);\n",
              "      a.download = filename;\n",
              "      div.appendChild(a);\n",
              "      a.click();\n",
              "      div.remove();\n",
              "    }\n",
              "  "
            ]
          },
          "metadata": {}
        },
        {
          "output_type": "display_data",
          "data": {
            "text/plain": [
              "<IPython.core.display.Javascript object>"
            ],
            "application/javascript": [
              "download(\"download_9b6a691c-d110-4a82-9187-fc4a4526a1a0\", \"paciente_7656_C3_sinal_pre_processado.png\", 137284)"
            ]
          },
          "metadata": {}
        }
      ]
    }
  ]
}