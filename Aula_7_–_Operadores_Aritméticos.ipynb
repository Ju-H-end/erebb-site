{
  "cells": [
    {
      "cell_type": "markdown",
      "metadata": {
        "id": "view-in-github",
        "colab_type": "text"
      },
      "source": [
        "<a href=\"https://colab.research.google.com/github/Ju-H-end/erebb-site/blob/main/Aula_7_%E2%80%93_Operadores_Aritm%C3%A9ticos.ipynb\" target=\"_parent\"><img src=\"https://colab.research.google.com/assets/colab-badge.svg\" alt=\"Open In Colab\"/></a>"
      ]
    },
    {
      "cell_type": "markdown",
      "metadata": {
        "id": "SSNntWJSkW45"
      },
      "source": [
        "** Operadores Aritméticos**"
      ]
    },
    {
      "cell_type": "markdown",
      "metadata": {
        "id": "rtNGsuk3mpcK"
      },
      "source": [
        "Ordem de Precendência:\n",
        "1.\n",
        "()\n",
        "\n",
        "2.\n",
        "** (Potência)\n",
        "\n",
        "3.* (Multiplicação);\n",
        "\n",
        "/ (Divisão);\n",
        "\n",
        "// (Divisão inteira);\n",
        "\n",
        "% (Resto da divisão)\n",
        "\n",
        "4.\n",
        "+ (Soma);\n",
        "- (Subtração)"
      ]
    },
    {
      "cell_type": "code",
      "execution_count": null,
      "metadata": {
        "colab": {
          "base_uri": "https://localhost:8080/"
        },
        "id": "3TIl_0GjnBE4",
        "outputId": "87833b55-4349-4ad7-93cd-45fb650eb410"
      },
      "outputs": [
        {
          "data": {
            "text/plain": [
              "11"
            ]
          },
          "execution_count": 15,
          "metadata": {},
          "output_type": "execute_result"
        }
      ],
      "source": [
        "5 + 3 * 2"
      ]
    },
    {
      "cell_type": "code",
      "execution_count": null,
      "metadata": {
        "colab": {
          "base_uri": "https://localhost:8080/"
        },
        "id": "6Y_d0QkMoNI3",
        "outputId": "843fdb34-3f6c-46a7-8ff0-91a3d6978233"
      },
      "outputs": [
        {
          "data": {
            "text/plain": [
              "31"
            ]
          },
          "execution_count": 16,
          "metadata": {},
          "output_type": "execute_result"
        }
      ],
      "source": [
        "3 * 5 + 4 ** 2"
      ]
    },
    {
      "cell_type": "code",
      "execution_count": null,
      "metadata": {
        "colab": {
          "base_uri": "https://localhost:8080/"
        },
        "id": "i3kVMBVtoYsR",
        "outputId": "4a3471f2-e3bc-4cdb-da89-98bf292fb9cd"
      },
      "outputs": [
        {
          "data": {
            "text/plain": [
              "243"
            ]
          },
          "execution_count": 17,
          "metadata": {},
          "output_type": "execute_result"
        }
      ],
      "source": [
        "3 * (5 + 4) ** 2"
      ]
    },
    {
      "cell_type": "code",
      "execution_count": null,
      "metadata": {
        "colab": {
          "base_uri": "https://localhost:8080/"
        },
        "id": "SL_PSr2RkOfC",
        "outputId": "5116115a-a8d7-41a4-bf2e-a38c497c2b40"
      },
      "outputs": [
        {
          "name": "stdout",
          "output_type": "stream",
          "text": [
            "Digite um número: 5\n",
            "Digite outro número: 2\n",
            "A Soma entre 5 e 2 é igual a 7\n"
          ]
        }
      ],
      "source": [
        "n1=int(input(\"Digite um número: \"))\n",
        "n2=int(input(\"Digite outro número: \"))\n",
        "s= n1 + n2\n",
        "print(\"A Soma entre {} e {} é igual a {}\".format(n1,n2,s))"
      ]
    },
    {
      "cell_type": "code",
      "execution_count": null,
      "metadata": {
        "colab": {
          "base_uri": "https://localhost:8080/"
        },
        "id": "mw4sPLKEleLn",
        "outputId": "8ec56cc1-b9b0-4f47-f2a3-579e518debf4"
      },
      "outputs": [
        {
          "name": "stdout",
          "output_type": "stream",
          "text": [
            "Digite um número: 5\n",
            "Digite outro número: 2\n",
            "A Subtração entre 5 e 2 é igual a 3\n"
          ]
        }
      ],
      "source": [
        "n1=int(input(\"Digite um número: \"))\n",
        "n2=int(input(\"Digite outro número: \"))\n",
        "s= n1 - n2\n",
        "print(\"A Subtração entre {} e {} é igual a {}\".format(n1,n2,s))"
      ]
    },
    {
      "cell_type": "code",
      "execution_count": null,
      "metadata": {
        "colab": {
          "base_uri": "https://localhost:8080/"
        },
        "id": "oUvlHhUjlsmz",
        "outputId": "04a0ba0e-bee0-499c-da3c-d6168b6cd678"
      },
      "outputs": [
        {
          "name": "stdout",
          "output_type": "stream",
          "text": [
            "Digite um número: 5\n",
            "Digite outro número: 2\n",
            "A Multiplicação entre 5 e 2 é igual a 10\n"
          ]
        }
      ],
      "source": [
        "n1=int(input(\"Digite um número: \"))\n",
        "n2=int(input(\"Digite outro número: \"))\n",
        "s= n1 * n2\n",
        "print(\"A Multiplicação entre {} e {} é igual a {}\".format(n1,n2,s))"
      ]
    },
    {
      "cell_type": "code",
      "execution_count": null,
      "metadata": {
        "colab": {
          "base_uri": "https://localhost:8080/"
        },
        "id": "d2DVxTzsl5TI",
        "outputId": "31afa865-c59b-4f75-8179-b782771302c7"
      },
      "outputs": [
        {
          "name": "stdout",
          "output_type": "stream",
          "text": [
            "Digite um número: 5\n",
            "Digite outro número: 2\n",
            "A Divisão entre 5 e 2 é igual a 2.5\n"
          ]
        }
      ],
      "source": [
        "n1=int(input(\"Digite um número: \"))\n",
        "n2=int(input(\"Digite outro número: \"))\n",
        "s= n1 / n2\n",
        "print(\"A Divisão entre {} e {} é igual a {}\".format(n1,n2,s))"
      ]
    },
    {
      "cell_type": "code",
      "execution_count": null,
      "metadata": {
        "colab": {
          "base_uri": "https://localhost:8080/"
        },
        "id": "mjzCAIIQmCcC",
        "outputId": "38d2ee7d-5b8e-40e2-8f6b-802acc3c1172"
      },
      "outputs": [
        {
          "name": "stdout",
          "output_type": "stream",
          "text": [
            "Digite um número: 5\n",
            "Digite outro número: 2\n",
            "A Potência entre 5 e 2 é igual a 25\n"
          ]
        }
      ],
      "source": [
        "n1=int(input(\"Digite um número: \"))\n",
        "n2=int(input(\"Digite outro número: \"))\n",
        "s= n1 ** n2\n",
        "print(\"A Potência entre {} e {} é igual a {}\".format(n1,n2,s))"
      ]
    },
    {
      "cell_type": "code",
      "execution_count": null,
      "metadata": {
        "colab": {
          "base_uri": "https://localhost:8080/"
        },
        "id": "1mjDLMYwmSfZ",
        "outputId": "0e2b4a3a-167b-451d-c766-b08e35d43f03"
      },
      "outputs": [
        {
          "name": "stdout",
          "output_type": "stream",
          "text": [
            "Digite um número: 5\n",
            "Digite outro número: 2\n",
            "A Divisão inteira o entre 5 e 2 é igual a 2\n"
          ]
        }
      ],
      "source": [
        "n1=int(input(\"Digite um número: \"))\n",
        "n2=int(input(\"Digite outro número: \"))\n",
        "s= n1 // n2\n",
        "print(\"A Divisão inteira o entre {} e {} é igual a {}\".format(n1,n2,s))"
      ]
    },
    {
      "cell_type": "code",
      "execution_count": null,
      "metadata": {
        "colab": {
          "base_uri": "https://localhost:8080/"
        },
        "id": "7J9XdQLZmdEu",
        "outputId": "30dbc6ee-7d9d-4a7f-e135-8c4723849211"
      },
      "outputs": [
        {
          "name": "stdout",
          "output_type": "stream",
          "text": [
            "Digite um número: 5\n",
            "Digite outro número: 2\n",
            "A Resto da divisão entre 5 e 2 é igual a 1\n"
          ]
        }
      ],
      "source": [
        "n1=int(input(\"Digite um número: \"))\n",
        "n2=int(input(\"Digite outro número: \"))\n",
        "s= n1 % n2\n",
        "print(\"A Resto da divisão entre {} e {} é igual a {}\".format(n1,n2,s))"
      ]
    },
    {
      "cell_type": "markdown",
      "metadata": {
        "id": "vjqpnLq8kV1M"
      },
      "source": [
        "Exercicio"
      ]
    },
    {
      "cell_type": "code",
      "execution_count": null,
      "metadata": {
        "colab": {
          "base_uri": "https://localhost:8080/"
        },
        "id": "rMa_1cg1ArjB",
        "outputId": "83fa0d8f-0e30-48f8-9f56-069cbf467b0a"
      },
      "outputs": [
        {
          "name": "stdout",
          "output_type": "stream",
          "text": [
            "Qual éseu nome?Julia\n",
            "Prazer em te conhecer =======Julia========!\n"
          ]
        }
      ],
      "source": [
        "nome = str(input('Qual éseu nome?'))\n",
        "print('Prazer em te conhecer {:=^20}!'.format(nome))"
      ]
    },
    {
      "cell_type": "code",
      "execution_count": null,
      "metadata": {
        "colab": {
          "base_uri": "https://localhost:8080/"
        },
        "id": "S8eEr99bCqnu",
        "outputId": "18a6855b-25b6-4e53-a7d9-947c5a842dfc"
      },
      "outputs": [
        {
          "name": "stdout",
          "output_type": "stream",
          "text": [
            "Um valor: 5\n",
            "Outro valor: 2\n",
            "A soma vale 7\n"
          ]
        }
      ],
      "source": [
        "n1 = int(input('Um valor: '))\n",
        "n2 = int(input('Outro valor: '))\n",
        "print('A soma vale {}'.format(n1+n2))"
      ]
    },
    {
      "cell_type": "code",
      "execution_count": null,
      "metadata": {
        "colab": {
          "base_uri": "https://localhost:8080/"
        },
        "id": "uI_4YV-SBzMO",
        "outputId": "df294956-a83d-4b36-80c8-ab10e02ad5ca"
      },
      "outputs": [
        {
          "name": "stdout",
          "output_type": "stream",
          "text": [
            "Um valor: 12\n",
            "Outro Valor: 4\n",
            "A soma é 16,\n",
            " o produto é 48 e a \n",
            " divisão é 3.000 Divisão inteira 3 e potência 20736\n"
          ]
        }
      ],
      "source": [
        "n1 = int(input('Um valor: '))\n",
        "n2 = int(input('Outro Valor: '))\n",
        "s = n1 + n2\n",
        "m = n1 * n2\n",
        "d = n1 / n2\n",
        "di = n1 // n2\n",
        "e = n1 ** n2\n",
        "print('A soma é {},\\n o produto é {} e a \\n divisão é {:.3f}'.format (s, m, d), end='')\n",
        "print(' Divisão inteira {} e potência {}'.format(di, e))"
      ]
    },
    {
      "cell_type": "markdown",
      "metadata": {
        "id": "584b9101"
      },
      "source": [
        "This code snippet performs several arithmetic operations based on user input.\n",
        "\n",
        "1.  **`n1 = int(input('Um valor: '))`** and **`n2 = int(input('Outro Valor: '))`**: These lines prompt the user to enter two numbers. The `input()` function reads the user's input as a string, and `int()` converts these strings to integers, storing them in variables `n1` and `n2`.\n",
        "\n",
        "2.  **`s = n1 + n2`**: Calculates the sum of `n1` and `n2` and stores the result in the variable `s`.\n",
        "\n",
        "3.  **`m = n1 * n2`**: Calculates the product of `n1` and `n2` and stores the result in the variable `m`.\n",
        "\n",
        "4.  **`d = n1 / n2`**: Calculates the division of `n1` by `n2` and stores the result in the variable `d`. This will result in a floating-point number.\n",
        "\n",
        "5.  **`di = n1 // n2`**: Calculates the integer division of `n1` by `n2`. This operation discards the remainder and returns only the integer part of the division, storing it in `di`.\n",
        "\n",
        "6.  **`e = n1 ** n2`**: Calculates `n1` raised to the power of `n2` and stores the result in the variable `e`.\n",
        "\n",
        "7.  **`print('A soma é {}, o produto é {} e a divisão é {:.3f}'.format (S, m, d))`**: This line attempts to print the sum, product, and division. However, there is a `NameError` here because it tries to use `S` (uppercase) which was not defined. It should be `s` (lowercase). The `{:.3f}` formats the division result to three decimal places.\n",
        "\n",
        "8.  **`print('Divisão inteira {} e potência {}'.format(di, e))`**: This line prints the integer division and the power calculation.\n",
        "\n",
        "In summary, the code takes two numbers from the user, performs addition, multiplication, standard division, integer division, and exponentiation, and then attempts to print the results. The `NameError` needs to be corrected for the code to run successfully."
      ]
    },
    {
      "cell_type": "markdown",
      "metadata": {
        "id": "eD_FUZbMFsfg"
      },
      "source": [
        "**DESAFIOS**"
      ]
    },
    {
      "cell_type": "markdown",
      "metadata": {
        "id": "zLByGyKjF_UO"
      },
      "source": [
        "005:\n",
        "Faça um programa que leia um número inteiro e mostre na tela o seu sucessor e seu antecessor."
      ]
    },
    {
      "cell_type": "code",
      "execution_count": null,
      "metadata": {
        "colab": {
          "base_uri": "https://localhost:8080/"
        },
        "id": "hQOpn2pGFBPG",
        "outputId": "63b0d065-4fa4-49d5-ca71-cd8ef41c9439"
      },
      "outputs": [
        {
          "name": "stdout",
          "output_type": "stream",
          "text": [
            "Digite um numerro inteiro: 8\n",
            "O sucessor de 8 é 9\n",
            "O antecessor de 8 é 7\n"
          ]
        }
      ],
      "source": [
        "\"Manos\"\n",
        "numero  = int(input(\"Digite um numerro inteiro: \"))\n",
        "sucessor = numero + 1\n",
        "antecessor = numero - 1\n",
        "print(f\"O sucessor de {numero} é {sucessor}\")\n",
        "print(f\"O antecessor de {numero} é {antecessor}\")"
      ]
    },
    {
      "cell_type": "code",
      "execution_count": null,
      "metadata": {
        "colab": {
          "base_uri": "https://localhost:8080/"
        },
        "id": "fEUlIWhtKZX2",
        "outputId": "5c7da61a-77aa-449b-d11b-0f5bf5020534"
      },
      "outputs": [
        {
          "name": "stdout",
          "output_type": "stream",
          "text": [
            "Digite um numero inteiro: 3\n",
            "O sucessor de 3 é 4 \n",
            "O antecessor de 3 é 2\n"
          ]
        }
      ],
      "source": [
        "\"Eu\"\n",
        "n = int(input(\"Digite um numero inteiro: \"))\n",
        "s = n + 1\n",
        "a = n - 1\n",
        "print(f\"O sucessor de {n} é {s} \")\n",
        "print(f\"O antecessor de {n} é {a}\")"
      ]
    },
    {
      "cell_type": "code",
      "execution_count": null,
      "metadata": {
        "colab": {
          "base_uri": "https://localhost:8080/"
        },
        "id": "duuAjFswRP2b",
        "outputId": "5463face-15ce-44c5-b0c9-00a477236ab5"
      },
      "outputs": [
        {
          "name": "stdout",
          "output_type": "stream",
          "text": [
            "Digite um numero: 5\n",
            "Analisando o valor 5, \n",
            " seu antecessor é 4 \n",
            " e o sucessor 6\n"
          ]
        }
      ],
      "source": [
        "\"Curso:\"\n",
        "n = int(input('Digite um numero: '))\n",
        "a = n - 1\n",
        "s = n + 1\n",
        "print('Analisando o valor {}, \\n seu antecessor é {} \\n e o sucessor {}'.format(n, a, s))"
      ]
    },
    {
      "cell_type": "code",
      "execution_count": null,
      "metadata": {
        "colab": {
          "base_uri": "https://localhost:8080/"
        },
        "id": "-pKe1QspWAiT",
        "outputId": "2da9a7ba-edd1-4376-d4f0-4ede0cc79682"
      },
      "outputs": [
        {
          "name": "stdout",
          "output_type": "stream",
          "text": [
            "Digite um número: 2\n",
            "Analisando o valor 2, seu antecessor é 1 e o sucessor é 3\n"
          ]
        }
      ],
      "source": [
        "'Curso'\n",
        "n = int(input('Digite um número: '))\n",
        "print('Analisando o valor {}, seu antecessor é {} e o sucessor é {}'.format(n, (n-1), (n+1)))"
      ]
    },
    {
      "cell_type": "markdown",
      "metadata": {
        "id": "X18pzmSbGKiK"
      },
      "source": [
        "006: Crie um algoritmo que leia um número e mostre o  seu dobro, triplo e raiz quadrada."
      ]
    },
    {
      "cell_type": "code",
      "execution_count": null,
      "metadata": {
        "colab": {
          "base_uri": "https://localhost:8080/"
        },
        "id": "fHSulTlgGgxx",
        "outputId": "36a6fdae-b03e-4dc0-8e3d-9b287a8d9578"
      },
      "outputs": [
        {
          "name": "stdout",
          "output_type": "stream",
          "text": [
            "Digite um numero: 3\n",
            "O dobro de 3.0 é 6.0\n",
            "O triplo de 3.0 é 9.0\n",
            "A raiz quadrada de 3.0 é 1.7320508075688772\n"
          ]
        }
      ],
      "source": [
        "\"Chat\"\n",
        "numero = float(input(\"Digite um numero: \"))\n",
        "dobro = numero * 2\n",
        "triplo = numero * 3\n",
        "raiz_quadrada = numero ** 0.5\n",
        "\n",
        "print(f'O dobro de {numero} é {dobro}')\n",
        "print(f'O triplo de {numero} é {triplo}')\n",
        "print(f'A raiz quadrada de {numero} é {raiz_quadrada}')\n",
        "\n",
        "import math\n",
        "raiz_quadrada = math.sqrt(numero)"
      ]
    },
    {
      "cell_type": "code",
      "execution_count": 14,
      "metadata": {
        "colab": {
          "base_uri": "https://localhost:8080/"
        },
        "id": "3QprSe_awzLv",
        "outputId": "a95c57ac-027d-42b8-9e95-24667e65d0bd"
      },
      "outputs": [
        {
          "output_type": "stream",
          "name": "stdout",
          "text": [
            "Digite um número: 18\n",
            "O dobro de 18 vale 36.\n",
            "O triplo de 18 vale 54. \n",
            " A raiz quadrada de 18 é igual a 4.24.\n"
          ]
        }
      ],
      "source": [
        "\"Curso:\"\n",
        "n = int(input('Digite um número: '))\n",
        "d = n * 2\n",
        "t = n * 3\n",
        "r = n ** (1/2)\n",
        "print('O dobro de {} vale {}.'.format(n, d))\n",
        "print('O triplo de {} vale {}. \\n A raiz quadrada de {} é igual a {:.2f}.'.format(n, t, n, r))"
      ]
    },
    {
      "cell_type": "code",
      "source": [
        "'Curso'\n",
        "n = int(input('Digite um número: '))\n",
        "print('O dobro de {} vale {}.'.format(n, (n*2)))\n",
        "print('O triplo de {} vale {}. \\n A raiz de {} é igual a {:.2f}.'.format(n, (n*3), n, (n**(1/2))))"
      ],
      "metadata": {
        "colab": {
          "base_uri": "https://localhost:8080/"
        },
        "id": "BGjhgpbd-6ip",
        "outputId": "20e422a2-930b-4e66-e8c7-7c6d9832bbf5"
      },
      "execution_count": 11,
      "outputs": [
        {
          "output_type": "stream",
          "name": "stdout",
          "text": [
            "Digite um número: 128\n",
            "O dobro de 128 vale 256.\n",
            "O triplo de 128 vale 384. \n",
            " A raiz de 128 é igual a 11.31.\n"
          ]
        }
      ]
    },
    {
      "cell_type": "code",
      "source": [
        "n = int(input('Digite um número: '))\n",
        "print('O dobro de {} vale {}.'.format(n, (n*2)))\n",
        "print('O triplo de {} vale {}. \\nA raiz quadrada de {} é igual a {:.2f}.'.format(n, (n*3), n, pow(n, (1/2))))"
      ],
      "metadata": {
        "colab": {
          "base_uri": "https://localhost:8080/"
        },
        "id": "ZEI8pbPV__M6",
        "outputId": "df4d14bc-3d6e-4cec-803c-7cf2ff8b364b"
      },
      "execution_count": 17,
      "outputs": [
        {
          "output_type": "stream",
          "name": "stdout",
          "text": [
            "Digite um número: 81\n",
            "O dobro de 81 vale 162.\n",
            "O triplo de 81 vale 243. \n",
            "A raiz quadrada de 81 é igual a 9.00.\n"
          ]
        }
      ]
    },
    {
      "cell_type": "markdown",
      "metadata": {
        "id": "yYPN3gGAGhSA"
      },
      "source": [
        "007:Desenvolva um programa que leia as duas notas de um aluno, calcule e mostre a sua media."
      ]
    },
    {
      "cell_type": "code",
      "execution_count": 26,
      "metadata": {
        "id": "i5cRra5IGxts",
        "colab": {
          "base_uri": "https://localhost:8080/"
        },
        "outputId": "d62db454-4116-4fbe-9be4-9651d0bdd5c2"
      },
      "outputs": [
        {
          "output_type": "stream",
          "name": "stdout",
          "text": [
            "Digite a primeira nota: 10\n",
            "Digite a segunda nota: 5\n",
            "A média do aluno é: 7.5\n"
          ]
        }
      ],
      "source": [
        "\"Manos\"\n",
        "nota1 = float(input(\"Digite a primeira nota: \"))\n",
        "nota2 = float(input(\"Digite a segunda nota: \"))\n",
        "\n",
        "media = (nota1 + nota2) / 2\n",
        "\n",
        "print(f\"A média do aluno é: {media}\")\n"
      ]
    },
    {
      "cell_type": "code",
      "source": [
        "n1 = float(input('Primeira nota do aluno: '))\n",
        "n2 = float(input('Segunda nota do aluno: '))\n",
        "média = (n1 + n2) / 2\n",
        "print('A média entre {:.1f} e {:.1f} é {}'.format(n1, n2, média))"
      ],
      "metadata": {
        "colab": {
          "base_uri": "https://localhost:8080/"
        },
        "id": "9hk_UVflF0Ic",
        "outputId": "38137957-82bc-417a-f4cb-a399d7646706"
      },
      "execution_count": 27,
      "outputs": [
        {
          "output_type": "stream",
          "name": "stdout",
          "text": [
            "Primeira nota do aluno: 10\n",
            "Segunda nota do aluno: 5\n",
            "A média entre 10.0 e 5.0 é 7.5\n"
          ]
        }
      ]
    },
    {
      "cell_type": "markdown",
      "metadata": {
        "id": "Z-lB6mteGyp2"
      },
      "source": [
        "008:Escreva um programa que leia um valor em metros e o exiba covertido em centímetros e milímetros."
      ]
    },
    {
      "cell_type": "code",
      "execution_count": 49,
      "metadata": {
        "id": "V9J4MnyQHGnf",
        "colab": {
          "base_uri": "https://localhost:8080/"
        },
        "outputId": "4408e950-ddba-4c14-cae1-0ee0b7f09fd2"
      },
      "outputs": [
        {
          "output_type": "stream",
          "name": "stdout",
          "text": [
            "Digite um valor em metros: 2.5\n",
            "2.5 metros equivalem \n",
            "250.0 centímetro \n",
            "2500.0 milímetros \n"
          ]
        }
      ],
      "source": [
        "\"Manus\"\n",
        "\n",
        "metros = float(input(\"Digite um valor em metros: \"))\n",
        "\n",
        "centimetros = metros * 100\n",
        "milímetros = metros * 1000\n",
        "\n",
        "print(f\"{metros} metros equivalem \".format(metros))\n",
        "print(f\"{centimetros} centímetro \".format(centimetros *1000))\n",
        "print(f\"{milímetros} milímetros \".format(milímetros *10000))"
      ]
    },
    {
      "cell_type": "code",
      "source": [
        "medida = float(input('Uma distância em metros: '))\n",
        "cm = medida * 100\n",
        "mm = medida * 1000\n",
        "print('A medida de {}m corresponde a {:.0f}cm e {:.0f}mm'.format(medida, cm, mm))"
      ],
      "metadata": {
        "colab": {
          "base_uri": "https://localhost:8080/"
        },
        "id": "a_MrcIX1M08k",
        "outputId": "a1d88f36-336c-4090-b66b-67adcf9dd10b"
      },
      "execution_count": 47,
      "outputs": [
        {
          "output_type": "stream",
          "name": "stdout",
          "text": [
            "Uma distância em metros: 2.5\n",
            "A medida de 2.5m corresponde a 250cm e 2500mm\n"
          ]
        }
      ]
    },
    {
      "cell_type": "code",
      "source": [],
      "metadata": {
        "id": "eRcUvhX_TGdc"
      },
      "execution_count": null,
      "outputs": []
    },
    {
      "cell_type": "code",
      "source": [
        "\"EU\"\n",
        "medida = float(input('Uma distância em metros: '))\n",
        "km = medida * 0.001\n",
        "hm = medida * 0.01\n",
        "dam = medida * 0.1\n",
        "dm = medida *  10\n",
        "cm = medida * 100\n",
        "mm = medida * 1000\n",
        "print('A medida de {}m corresponde a \\n{}km \\n{}hm \\n{:.1f}dam \\n{:.0f}dm \\n{:.0f}cm \\n{:.0f}mm'.format(medida, km, hm, dam, dm, cm, mm))\n"
      ],
      "metadata": {
        "colab": {
          "base_uri": "https://localhost:8080/"
        },
        "id": "ZJAb6kJZNqo8",
        "outputId": "b2166a93-5237-4525-81ca-cb3f9cc568e4"
      },
      "execution_count": 67,
      "outputs": [
        {
          "output_type": "stream",
          "name": "stdout",
          "text": [
            "Uma distância em metros: 3\n",
            "A medida de 3.0m corresponde a \n",
            "0.003km \n",
            "0.03hm \n",
            "0.3dam \n",
            "30dm \n",
            "300cm \n",
            "3000mm\n"
          ]
        }
      ]
    },
    {
      "cell_type": "markdown",
      "metadata": {
        "id": "1shyRUIhHHAd"
      },
      "source": [
        "009: Faça um program que leia um número Inteir qualquer e mostre na tela a sua tabuada."
      ]
    },
    {
      "cell_type": "code",
      "execution_count": null,
      "metadata": {
        "id": "UdojrmCIHYd_"
      },
      "outputs": [],
      "source": []
    },
    {
      "cell_type": "markdown",
      "metadata": {
        "id": "3jPWbyALHgDt"
      },
      "source": [
        "010: Crie um programa que leia quanto dinheiro uma pessoa tem na carteira e mostre quantos Dólares ela pode comprar.\n",
        "\n",
        "considere\n",
        "US$1,00=R$3,27"
      ]
    },
    {
      "cell_type": "code",
      "execution_count": null,
      "metadata": {
        "id": "QLys4dnbHy7G"
      },
      "outputs": [],
      "source": []
    },
    {
      "cell_type": "markdown",
      "metadata": {
        "id": "fA8HqcNYH7dO"
      },
      "source": [
        "011: Faça um Program que leia a largura e a altura de uma parede em metros, calcule a sua área e a quantidade de tinta necessária para pintá-la, sabendo que cada litro de tinta, pinta uma área de 2m²."
      ]
    },
    {
      "cell_type": "code",
      "execution_count": null,
      "metadata": {
        "id": "MckJpeWKIU0o"
      },
      "outputs": [],
      "source": []
    },
    {
      "cell_type": "markdown",
      "metadata": {
        "id": "GfpmMAUdIVTc"
      },
      "source": [
        "012: Faça um algoritmo que leia o preço de um produto e mostre seu novo preço, com 5% de desconto."
      ]
    },
    {
      "cell_type": "code",
      "execution_count": null,
      "metadata": {
        "id": "r7TMyONJInz8"
      },
      "outputs": [],
      "source": []
    },
    {
      "cell_type": "markdown",
      "metadata": {
        "id": "YK9A6Sh-IoQw"
      },
      "source": [
        "013:Faça um algoritmo que leia o salário de um  funcionário e mostre seu novo salário, com 15% de aumento."
      ]
    },
    {
      "cell_type": "code",
      "execution_count": null,
      "metadata": {
        "id": "Q3S8OlOPI61b"
      },
      "outputs": [],
      "source": []
    }
  ],
  "metadata": {
    "colab": {
      "provenance": [],
      "authorship_tag": "ABX9TyOjx/VV+7CKR1tEgmNCBG8T",
      "include_colab_link": true
    },
    "kernelspec": {
      "display_name": "Python 3",
      "name": "python3"
    },
    "language_info": {
      "name": "python"
    }
  },
  "nbformat": 4,
  "nbformat_minor": 0
}