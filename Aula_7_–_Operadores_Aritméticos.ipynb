{
  "nbformat": 4,
  "nbformat_minor": 0,
  "metadata": {
    "colab": {
      "provenance": [],
      "authorship_tag": "ABX9TyM7PnZVyMvirZkeZ4PK4oOR",
      "include_colab_link": true
    },
    "kernelspec": {
      "name": "python3",
      "display_name": "Python 3"
    },
    "language_info": {
      "name": "python"
    }
  },
  "cells": [
    {
      "cell_type": "markdown",
      "metadata": {
        "id": "view-in-github",
        "colab_type": "text"
      },
      "source": [
        "<a href=\"https://colab.research.google.com/github/Ju-H-end/erebb-site/blob/main/Aula_7_%E2%80%93_Operadores_Aritm%C3%A9ticos.ipynb\" target=\"_parent\"><img src=\"https://colab.research.google.com/assets/colab-badge.svg\" alt=\"Open In Colab\"/></a>"
      ]
    },
    {
      "cell_type": "markdown",
      "source": [
        "** Operadores Aritméticos**"
      ],
      "metadata": {
        "id": "SSNntWJSkW45"
      }
    },
    {
      "cell_type": "markdown",
      "source": [
        "Ordem de Precendência:\n",
        "1.\n",
        "()\n",
        "\n",
        "2.\n",
        "** (Potência)\n",
        "\n",
        "3.* (Multiplicação);\n",
        "\n",
        "/ (Divisão);\n",
        "\n",
        "// (Divisão inteira);\n",
        "\n",
        "% (Resto da divisão)\n",
        "\n",
        "4.\n",
        "+ (Soma);\n",
        "- (Subtração)"
      ],
      "metadata": {
        "id": "rtNGsuk3mpcK"
      }
    },
    {
      "cell_type": "code",
      "source": [
        "5 + 3 * 2"
      ],
      "metadata": {
        "colab": {
          "base_uri": "https://localhost:8080/"
        },
        "id": "3TIl_0GjnBE4",
        "outputId": "87833b55-4349-4ad7-93cd-45fb650eb410"
      },
      "execution_count": 15,
      "outputs": [
        {
          "output_type": "execute_result",
          "data": {
            "text/plain": [
              "11"
            ]
          },
          "metadata": {},
          "execution_count": 15
        }
      ]
    },
    {
      "cell_type": "code",
      "source": [
        "3 * 5 + 4 ** 2"
      ],
      "metadata": {
        "colab": {
          "base_uri": "https://localhost:8080/"
        },
        "id": "6Y_d0QkMoNI3",
        "outputId": "843fdb34-3f6c-46a7-8ff0-91a3d6978233"
      },
      "execution_count": 16,
      "outputs": [
        {
          "output_type": "execute_result",
          "data": {
            "text/plain": [
              "31"
            ]
          },
          "metadata": {},
          "execution_count": 16
        }
      ]
    },
    {
      "cell_type": "code",
      "source": [
        "3 * (5 + 4) ** 2"
      ],
      "metadata": {
        "colab": {
          "base_uri": "https://localhost:8080/"
        },
        "id": "i3kVMBVtoYsR",
        "outputId": "4a3471f2-e3bc-4cdb-da89-98bf292fb9cd"
      },
      "execution_count": 17,
      "outputs": [
        {
          "output_type": "execute_result",
          "data": {
            "text/plain": [
              "243"
            ]
          },
          "metadata": {},
          "execution_count": 17
        }
      ]
    },
    {
      "cell_type": "code",
      "execution_count": 7,
      "metadata": {
        "colab": {
          "base_uri": "https://localhost:8080/"
        },
        "id": "SL_PSr2RkOfC",
        "outputId": "5116115a-a8d7-41a4-bf2e-a38c497c2b40"
      },
      "outputs": [
        {
          "output_type": "stream",
          "name": "stdout",
          "text": [
            "Digite um número: 5\n",
            "Digite outro número: 2\n",
            "A Soma entre 5 e 2 é igual a 7\n"
          ]
        }
      ],
      "source": [
        "n1=int(input(\"Digite um número: \"))\n",
        "n2=int(input(\"Digite outro número: \"))\n",
        "s= n1 + n2\n",
        "print(\"A Soma entre {} e {} é igual a {}\".format(n1,n2,s))"
      ]
    },
    {
      "cell_type": "code",
      "source": [
        "n1=int(input(\"Digite um número: \"))\n",
        "n2=int(input(\"Digite outro número: \"))\n",
        "s= n1 - n2\n",
        "print(\"A Subtração entre {} e {} é igual a {}\".format(n1,n2,s))"
      ],
      "metadata": {
        "colab": {
          "base_uri": "https://localhost:8080/"
        },
        "id": "mw4sPLKEleLn",
        "outputId": "8ec56cc1-b9b0-4f47-f2a3-579e518debf4"
      },
      "execution_count": 8,
      "outputs": [
        {
          "output_type": "stream",
          "name": "stdout",
          "text": [
            "Digite um número: 5\n",
            "Digite outro número: 2\n",
            "A Subtração entre 5 e 2 é igual a 3\n"
          ]
        }
      ]
    },
    {
      "cell_type": "code",
      "source": [
        "n1=int(input(\"Digite um número: \"))\n",
        "n2=int(input(\"Digite outro número: \"))\n",
        "s= n1 * n2\n",
        "print(\"A Multiplicação entre {} e {} é igual a {}\".format(n1,n2,s))"
      ],
      "metadata": {
        "colab": {
          "base_uri": "https://localhost:8080/"
        },
        "id": "oUvlHhUjlsmz",
        "outputId": "04a0ba0e-bee0-499c-da3c-d6168b6cd678"
      },
      "execution_count": 10,
      "outputs": [
        {
          "output_type": "stream",
          "name": "stdout",
          "text": [
            "Digite um número: 5\n",
            "Digite outro número: 2\n",
            "A Multiplicação entre 5 e 2 é igual a 10\n"
          ]
        }
      ]
    },
    {
      "cell_type": "code",
      "source": [
        "n1=int(input(\"Digite um número: \"))\n",
        "n2=int(input(\"Digite outro número: \"))\n",
        "s= n1 / n2\n",
        "print(\"A Divisão entre {} e {} é igual a {}\".format(n1,n2,s))"
      ],
      "metadata": {
        "colab": {
          "base_uri": "https://localhost:8080/"
        },
        "id": "d2DVxTzsl5TI",
        "outputId": "31afa865-c59b-4f75-8179-b782771302c7"
      },
      "execution_count": 11,
      "outputs": [
        {
          "output_type": "stream",
          "name": "stdout",
          "text": [
            "Digite um número: 5\n",
            "Digite outro número: 2\n",
            "A Divisão entre 5 e 2 é igual a 2.5\n"
          ]
        }
      ]
    },
    {
      "cell_type": "code",
      "source": [
        "n1=int(input(\"Digite um número: \"))\n",
        "n2=int(input(\"Digite outro número: \"))\n",
        "s= n1 ** n2\n",
        "print(\"A Potência entre {} e {} é igual a {}\".format(n1,n2,s))"
      ],
      "metadata": {
        "colab": {
          "base_uri": "https://localhost:8080/"
        },
        "id": "mjzCAIIQmCcC",
        "outputId": "38d2ee7d-5b8e-40e2-8f6b-802acc3c1172"
      },
      "execution_count": 12,
      "outputs": [
        {
          "output_type": "stream",
          "name": "stdout",
          "text": [
            "Digite um número: 5\n",
            "Digite outro número: 2\n",
            "A Potência entre 5 e 2 é igual a 25\n"
          ]
        }
      ]
    },
    {
      "cell_type": "code",
      "source": [
        "n1=int(input(\"Digite um número: \"))\n",
        "n2=int(input(\"Digite outro número: \"))\n",
        "s= n1 // n2\n",
        "print(\"A Divisão inteira o entre {} e {} é igual a {}\".format(n1,n2,s))"
      ],
      "metadata": {
        "colab": {
          "base_uri": "https://localhost:8080/"
        },
        "id": "1mjDLMYwmSfZ",
        "outputId": "0e2b4a3a-167b-451d-c766-b08e35d43f03"
      },
      "execution_count": 13,
      "outputs": [
        {
          "output_type": "stream",
          "name": "stdout",
          "text": [
            "Digite um número: 5\n",
            "Digite outro número: 2\n",
            "A Divisão inteira o entre 5 e 2 é igual a 2\n"
          ]
        }
      ]
    },
    {
      "cell_type": "code",
      "source": [
        "n1=int(input(\"Digite um número: \"))\n",
        "n2=int(input(\"Digite outro número: \"))\n",
        "s= n1 % n2\n",
        "print(\"A Resto da divisão entre {} e {} é igual a {}\".format(n1,n2,s))"
      ],
      "metadata": {
        "colab": {
          "base_uri": "https://localhost:8080/"
        },
        "id": "7J9XdQLZmdEu",
        "outputId": "30dbc6ee-7d9d-4a7f-e135-8c4723849211"
      },
      "execution_count": 14,
      "outputs": [
        {
          "output_type": "stream",
          "name": "stdout",
          "text": [
            "Digite um número: 5\n",
            "Digite outro número: 2\n",
            "A Resto da divisão entre 5 e 2 é igual a 1\n"
          ]
        }
      ]
    },
    {
      "cell_type": "markdown",
      "source": [
        "Exercicio"
      ],
      "metadata": {
        "id": "vjqpnLq8kV1M"
      }
    },
    {
      "cell_type": "code",
      "source": [
        "nome = str(input('Qual éseu nome?'))\n",
        "print('Prazer em te conhecer {:=^20}!'.format(nome))"
      ],
      "metadata": {
        "colab": {
          "base_uri": "https://localhost:8080/"
        },
        "id": "rMa_1cg1ArjB",
        "outputId": "83fa0d8f-0e30-48f8-9f56-069cbf467b0a"
      },
      "execution_count": 18,
      "outputs": [
        {
          "output_type": "stream",
          "name": "stdout",
          "text": [
            "Qual éseu nome?Julia\n",
            "Prazer em te conhecer =======Julia========!\n"
          ]
        }
      ]
    },
    {
      "cell_type": "code",
      "source": [
        "n1 = int(input('Um valor: '))\n",
        "n2 = int(input('Outro valor: '))\n",
        "print('A soma vale {}'.format(n1+n2))"
      ],
      "metadata": {
        "colab": {
          "base_uri": "https://localhost:8080/"
        },
        "id": "S8eEr99bCqnu",
        "outputId": "18a6855b-25b6-4e53-a7d9-947c5a842dfc"
      },
      "execution_count": 20,
      "outputs": [
        {
          "output_type": "stream",
          "name": "stdout",
          "text": [
            "Um valor: 5\n",
            "Outro valor: 2\n",
            "A soma vale 7\n"
          ]
        }
      ]
    },
    {
      "cell_type": "code",
      "source": [
        "n1 = int(input('Um valor: '))\n",
        "n2 = int(input('Outro Valor: '))\n",
        "s = n1 + n2\n",
        "m = n1 * n2\n",
        "d = n1 / n2\n",
        "di = n1 // n2\n",
        "e = n1 ** n2\n",
        "print('A soma é {},\\n o produto é {} e a \\n divisão é {:.3f}'.format (s, m, d), end='')\n",
        "print(' Divisão inteira {} e potência {}'.format(di, e))"
      ],
      "metadata": {
        "colab": {
          "base_uri": "https://localhost:8080/"
        },
        "id": "uI_4YV-SBzMO",
        "outputId": "df294956-a83d-4b36-80c8-ab10e02ad5ca"
      },
      "execution_count": 32,
      "outputs": [
        {
          "output_type": "stream",
          "name": "stdout",
          "text": [
            "Um valor: 12\n",
            "Outro Valor: 4\n",
            "A soma é 16,\n",
            " o produto é 48 e a \n",
            " divisão é 3.000 Divisão inteira 3 e potência 20736\n"
          ]
        }
      ]
    },
    {
      "cell_type": "markdown",
      "metadata": {
        "id": "584b9101"
      },
      "source": [
        "This code snippet performs several arithmetic operations based on user input.\n",
        "\n",
        "1.  **`n1 = int(input('Um valor: '))`** and **`n2 = int(input('Outro Valor: '))`**: These lines prompt the user to enter two numbers. The `input()` function reads the user's input as a string, and `int()` converts these strings to integers, storing them in variables `n1` and `n2`.\n",
        "\n",
        "2.  **`s = n1 + n2`**: Calculates the sum of `n1` and `n2` and stores the result in the variable `s`.\n",
        "\n",
        "3.  **`m = n1 * n2`**: Calculates the product of `n1` and `n2` and stores the result in the variable `m`.\n",
        "\n",
        "4.  **`d = n1 / n2`**: Calculates the division of `n1` by `n2` and stores the result in the variable `d`. This will result in a floating-point number.\n",
        "\n",
        "5.  **`di = n1 // n2`**: Calculates the integer division of `n1` by `n2`. This operation discards the remainder and returns only the integer part of the division, storing it in `di`.\n",
        "\n",
        "6.  **`e = n1 ** n2`**: Calculates `n1` raised to the power of `n2` and stores the result in the variable `e`.\n",
        "\n",
        "7.  **`print('A soma é {}, o produto é {} e a divisão é {:.3f}'.format (S, m, d))`**: This line attempts to print the sum, product, and division. However, there is a `NameError` here because it tries to use `S` (uppercase) which was not defined. It should be `s` (lowercase). The `{:.3f}` formats the division result to three decimal places.\n",
        "\n",
        "8.  **`print('Divisão inteira {} e potência {}'.format(di, e))`**: This line prints the integer division and the power calculation.\n",
        "\n",
        "In summary, the code takes two numbers from the user, performs addition, multiplication, standard division, integer division, and exponentiation, and then attempts to print the results. The `NameError` needs to be corrected for the code to run successfully."
      ]
    },
    {
      "cell_type": "markdown",
      "source": [
        "**DESAFIOS**"
      ],
      "metadata": {
        "id": "eD_FUZbMFsfg"
      }
    },
    {
      "cell_type": "markdown",
      "source": [
        "005:\n",
        "Faça um programa que leia um número inteiro e mostre na tela o seu sucessor e seu antecessor."
      ],
      "metadata": {
        "id": "zLByGyKjF_UO"
      }
    },
    {
      "cell_type": "code",
      "source": [
        "\"Manos\"\n",
        "numero  = int(input(\"Digite um numerro inteiro: \"))\n",
        "sucessor = numero + 1\n",
        "antecessor = numero - 1\n",
        "print(f\"O sucessor de {numero} é {sucessor}\")\n",
        "print(f\"O antecessor de {numero} é {antecessor}\")"
      ],
      "metadata": {
        "colab": {
          "base_uri": "https://localhost:8080/"
        },
        "id": "hQOpn2pGFBPG",
        "outputId": "63b0d065-4fa4-49d5-ca71-cd8ef41c9439"
      },
      "execution_count": 34,
      "outputs": [
        {
          "output_type": "stream",
          "name": "stdout",
          "text": [
            "Digite um numerro inteiro: 8\n",
            "O sucessor de 8 é 9\n",
            "O antecessor de 8 é 7\n"
          ]
        }
      ]
    },
    {
      "cell_type": "code",
      "source": [
        "\"Eu\"\n",
        "n = int(input(\"Digite um numero inteiro: \"))\n",
        "s = n + 1\n",
        "a = n - 1\n",
        "print(f\"O sucessor de {n} é {s} \")\n",
        "print(f\"O antecessor de {n} é {a}\")"
      ],
      "metadata": {
        "colab": {
          "base_uri": "https://localhost:8080/"
        },
        "id": "fEUlIWhtKZX2",
        "outputId": "5c7da61a-77aa-449b-d11b-0f5bf5020534"
      },
      "execution_count": 36,
      "outputs": [
        {
          "output_type": "stream",
          "name": "stdout",
          "text": [
            "Digite um numero inteiro: 3\n",
            "O sucessor de 3 é 4 \n",
            "O antecessor de 3 é 2\n"
          ]
        }
      ]
    },
    {
      "cell_type": "code",
      "source": [
        "\"Curso:\"\n",
        "n = int(input('Digite um numero: '))\n",
        "a = n - 1\n",
        "s = n + 1\n",
        "print('Analisando o valor {}, \\n seu antecessor é {} \\n e o sucessor {}'.format(n, a, s))"
      ],
      "metadata": {
        "colab": {
          "base_uri": "https://localhost:8080/"
        },
        "id": "duuAjFswRP2b",
        "outputId": "5463face-15ce-44c5-b0c9-00a477236ab5"
      },
      "execution_count": 38,
      "outputs": [
        {
          "output_type": "stream",
          "name": "stdout",
          "text": [
            "Digite um numero: 5\n",
            "Analisando o valor 5, \n",
            " seu antecessor é 4 \n",
            " e o sucessor 6\n"
          ]
        }
      ]
    },
    {
      "cell_type": "code",
      "source": [
        "'Curso'\n",
        "n = int(input('Digite um número: '))\n",
        "print('Analisando o valor {}, seu antecessor é {} e o sucessor é {}'.format(n, (n-1), (n+1)))"
      ],
      "metadata": {
        "colab": {
          "base_uri": "https://localhost:8080/"
        },
        "id": "-pKe1QspWAiT",
        "outputId": "2da9a7ba-edd1-4376-d4f0-4ede0cc79682"
      },
      "execution_count": 44,
      "outputs": [
        {
          "output_type": "stream",
          "name": "stdout",
          "text": [
            "Digite um número: 2\n",
            "Analisando o valor 2, seu antecessor é 1 e o sucessor é 3\n"
          ]
        }
      ]
    },
    {
      "cell_type": "markdown",
      "source": [
        "006: Crie um algoritmo que leia um número e mostre o  seu dobro, triplo e raiz quadrada."
      ],
      "metadata": {
        "id": "X18pzmSbGKiK"
      }
    },
    {
      "cell_type": "code",
      "source": [
        "\"Chat\"\n",
        "numero = float(input(\"Digite um numero: \"))\n",
        "dobro = numero* 2\n",
        "triplo = numoero * 3\n",
        "raiz_"
      ],
      "metadata": {
        "id": "fHSulTlgGgxx"
      },
      "execution_count": null,
      "outputs": []
    },
    {
      "cell_type": "markdown",
      "source": [
        "007:Desenvolva um programa que leia as duas nootas de um aluno, calcule e mostre a sua media."
      ],
      "metadata": {
        "id": "yYPN3gGAGhSA"
      }
    },
    {
      "cell_type": "code",
      "source": [],
      "metadata": {
        "id": "i5cRra5IGxts"
      },
      "execution_count": null,
      "outputs": []
    },
    {
      "cell_type": "markdown",
      "source": [
        "008:Escreva um programa que leia um valor em metros e o exiba conertido em centímetros e milímetros."
      ],
      "metadata": {
        "id": "Z-lB6mteGyp2"
      }
    },
    {
      "cell_type": "code",
      "source": [],
      "metadata": {
        "id": "V9J4MnyQHGnf"
      },
      "execution_count": null,
      "outputs": []
    },
    {
      "cell_type": "markdown",
      "source": [
        "009: Faça um program que leia um número Inteir qualquer e mostre na tela a sua tabuada."
      ],
      "metadata": {
        "id": "1shyRUIhHHAd"
      }
    },
    {
      "cell_type": "code",
      "source": [],
      "metadata": {
        "id": "UdojrmCIHYd_"
      },
      "execution_count": null,
      "outputs": []
    },
    {
      "cell_type": "markdown",
      "source": [
        "010: Crie um programa que leia quanto dinheiro uma pessoa tem na carteira e mostre quantos Dólares ela pode comprar.\n",
        "\n",
        "considere\n",
        "US$1,00=R$3,27"
      ],
      "metadata": {
        "id": "3jPWbyALHgDt"
      }
    },
    {
      "cell_type": "code",
      "source": [],
      "metadata": {
        "id": "QLys4dnbHy7G"
      },
      "execution_count": null,
      "outputs": []
    },
    {
      "cell_type": "markdown",
      "source": [
        "011: Faça um Program que leia a largura e a altura de uma parede em metros, calcule a sua área e a quantidade de tinta necessária para pintá-la, sabendo que cada litro de tinta, pinta uma área de 2m²."
      ],
      "metadata": {
        "id": "fA8HqcNYH7dO"
      }
    },
    {
      "cell_type": "code",
      "source": [],
      "metadata": {
        "id": "MckJpeWKIU0o"
      },
      "execution_count": null,
      "outputs": []
    },
    {
      "cell_type": "markdown",
      "source": [
        "012: Faça um algoritmo que leia o preço de um produto e mostre seu novo preço, com 5% de desconto."
      ],
      "metadata": {
        "id": "GfpmMAUdIVTc"
      }
    },
    {
      "cell_type": "code",
      "source": [],
      "metadata": {
        "id": "r7TMyONJInz8"
      },
      "execution_count": null,
      "outputs": []
    },
    {
      "cell_type": "markdown",
      "source": [
        "013:Faça um algoritmo que leia o salário de um  funcionário e mostre seu novo salário, com 15% de aumento."
      ],
      "metadata": {
        "id": "YK9A6Sh-IoQw"
      }
    },
    {
      "cell_type": "code",
      "source": [],
      "metadata": {
        "id": "Q3S8OlOPI61b"
      },
      "execution_count": null,
      "outputs": []
    }
  ]
}